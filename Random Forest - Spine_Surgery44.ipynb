{
 "cells": [
  {
   "cell_type": "markdown",
   "metadata": {},
   "source": [
    "## 1. Import the Libraries"
   ]
  },
  {
   "cell_type": "code",
   "execution_count": 1,
   "metadata": {},
   "outputs": [],
   "source": [
    "# Import Numpy, Pandas, Matplotlib, Seaborn and Pydot libraries\n",
    "import numpy as np\n",
    "import pandas as pd\n",
    "import matplotlib.pyplot as plt\n",
    "import seaborn as sns\n",
    "%matplotlib inline\n",
    "import pydot"
   ]
  },
  {
   "cell_type": "markdown",
   "metadata": {},
   "source": [
    "## 2. Load the Data"
   ]
  },
  {
   "cell_type": "code",
   "execution_count": 2,
   "metadata": {},
   "outputs": [],
   "source": [
    "# Load the dataset (read from .csv file and set it to a Pandas DataFrame)\n",
    "kyphosis_df = pd.read_csv(\"Kyphosis_Data.csv\")"
   ]
  },
  {
   "cell_type": "markdown",
   "metadata": {},
   "source": [
    "## 3. Exploratory Data Analysis"
   ]
  },
  {
   "cell_type": "markdown",
   "metadata": {},
   "source": [
    "- Study the dataset and describe the columns to understand the data\n",
    "- Aim is to gain intuition about the data, good understanding of the dataset, some notes for Data Cleaning, and possibly some ideas for Feature Engineering"
   ]
  },
  {
   "cell_type": "markdown",
   "metadata": {},
   "source": [
    "### 3.1 Check out the Data"
   ]
  },
  {
   "cell_type": "markdown",
   "metadata": {},
   "source": [
    "#### Insights we could draw from the data:\n",
    "1. To get to know the data\n",
    "2. Answer a set of basic questions about the dataset:\t\n",
    "    - How many observations do we have?\n",
    "\t- How many features?\n",
    "        - Which features are available in the dataset?\n",
    "\t- What are the data types of the features?\n",
    "        - Which features are numerical?\n",
    "        - Which features are categorical?\n",
    "        - Which features are mixed data types?\n",
    "\t- Do we have a target variable (label)?\n",
    "    - What is the distribution of numerical feature values across the samples?"
   ]
  },
  {
   "cell_type": "code",
   "execution_count": 3,
   "metadata": {},
   "outputs": [
    {
     "data": {
      "text/html": [
       "<div>\n",
       "<style scoped>\n",
       "    .dataframe tbody tr th:only-of-type {\n",
       "        vertical-align: middle;\n",
       "    }\n",
       "\n",
       "    .dataframe tbody tr th {\n",
       "        vertical-align: top;\n",
       "    }\n",
       "\n",
       "    .dataframe thead th {\n",
       "        text-align: right;\n",
       "    }\n",
       "</style>\n",
       "<table border=\"1\" class=\"dataframe\">\n",
       "  <thead>\n",
       "    <tr style=\"text-align: right;\">\n",
       "      <th></th>\n",
       "      <th>Kyphosis</th>\n",
       "      <th>Age</th>\n",
       "      <th>Number</th>\n",
       "      <th>Start</th>\n",
       "    </tr>\n",
       "  </thead>\n",
       "  <tbody>\n",
       "    <tr>\n",
       "      <td>0</td>\n",
       "      <td>absent</td>\n",
       "      <td>71</td>\n",
       "      <td>3</td>\n",
       "      <td>5</td>\n",
       "    </tr>\n",
       "    <tr>\n",
       "      <td>1</td>\n",
       "      <td>absent</td>\n",
       "      <td>158</td>\n",
       "      <td>3</td>\n",
       "      <td>14</td>\n",
       "    </tr>\n",
       "    <tr>\n",
       "      <td>2</td>\n",
       "      <td>present</td>\n",
       "      <td>128</td>\n",
       "      <td>4</td>\n",
       "      <td>5</td>\n",
       "    </tr>\n",
       "    <tr>\n",
       "      <td>3</td>\n",
       "      <td>absent</td>\n",
       "      <td>2</td>\n",
       "      <td>5</td>\n",
       "      <td>1</td>\n",
       "    </tr>\n",
       "    <tr>\n",
       "      <td>4</td>\n",
       "      <td>absent</td>\n",
       "      <td>1</td>\n",
       "      <td>4</td>\n",
       "      <td>15</td>\n",
       "    </tr>\n",
       "  </tbody>\n",
       "</table>\n",
       "</div>"
      ],
      "text/plain": [
       "  Kyphosis  Age  Number  Start\n",
       "0   absent   71       3      5\n",
       "1   absent  158       3     14\n",
       "2  present  128       4      5\n",
       "3   absent    2       5      1\n",
       "4   absent    1       4     15"
      ]
     },
     "execution_count": 3,
     "metadata": {},
     "output_type": "execute_result"
    }
   ],
   "source": [
    "# Display the few top rows of a DataFrame\n",
    "kyphosis_df.head()"
   ]
  },
  {
   "cell_type": "code",
   "execution_count": 4,
   "metadata": {},
   "outputs": [
    {
     "data": {
      "text/plain": [
       "(81, 4)"
      ]
     },
     "execution_count": 4,
     "metadata": {},
     "output_type": "execute_result"
    }
   ],
   "source": [
    "# Shape of the dataset\n",
    "kyphosis_df.shape"
   ]
  },
  {
   "cell_type": "code",
   "execution_count": 5,
   "metadata": {},
   "outputs": [
    {
     "data": {
      "text/plain": [
       "Index(['Kyphosis', 'Age', 'Number', 'Start'], dtype='object')"
      ]
     },
     "execution_count": 5,
     "metadata": {},
     "output_type": "execute_result"
    }
   ],
   "source": [
    "# List of the column names\n",
    "kyphosis_df.columns"
   ]
  },
  {
   "cell_type": "code",
   "execution_count": 6,
   "metadata": {},
   "outputs": [
    {
     "data": {
      "text/plain": [
       "Index(['Age', 'Number', 'Start'], dtype='object')"
      ]
     },
     "execution_count": 6,
     "metadata": {},
     "output_type": "execute_result"
    }
   ],
   "source": [
    "# List of all numerical columns\n",
    "kyphosis_df.select_dtypes(include='number').columns"
   ]
  },
  {
   "cell_type": "code",
   "execution_count": 7,
   "metadata": {},
   "outputs": [
    {
     "data": {
      "text/plain": [
       "Index(['Kyphosis'], dtype='object')"
      ]
     },
     "execution_count": 7,
     "metadata": {},
     "output_type": "execute_result"
    }
   ],
   "source": [
    "# List of all non-numerical columns\n",
    "kyphosis_df.select_dtypes(exclude='number').columns"
   ]
  },
  {
   "cell_type": "code",
   "execution_count": 8,
   "metadata": {},
   "outputs": [
    {
     "data": {
      "text/plain": [
       "Kyphosis    object\n",
       "Age          int64\n",
       "Number       int64\n",
       "Start        int64\n",
       "dtype: object"
      ]
     },
     "execution_count": 8,
     "metadata": {},
     "output_type": "execute_result"
    }
   ],
   "source": [
    "# Data type of each column in a DataFrame\n",
    "kyphosis_df.dtypes"
   ]
  },
  {
   "cell_type": "code",
   "execution_count": 9,
   "metadata": {},
   "outputs": [
    {
     "name": "stdout",
     "output_type": "stream",
     "text": [
      "<class 'pandas.core.frame.DataFrame'>\n",
      "RangeIndex: 81 entries, 0 to 80\n",
      "Data columns (total 4 columns):\n",
      "Kyphosis    81 non-null object\n",
      "Age         81 non-null int64\n",
      "Number      81 non-null int64\n",
      "Start       81 non-null int64\n",
      "dtypes: int64(3), object(1)\n",
      "memory usage: 2.7+ KB\n"
     ]
    }
   ],
   "source": [
    "# Find out how many entries (rows and columns) there are, what type of objects are in the DataFrame (to observe if they have the correct type) etc.\n",
    "kyphosis_df.info()"
   ]
  },
  {
   "cell_type": "code",
   "execution_count": 10,
   "metadata": {},
   "outputs": [
    {
     "data": {
      "text/html": [
       "<div>\n",
       "<style scoped>\n",
       "    .dataframe tbody tr th:only-of-type {\n",
       "        vertical-align: middle;\n",
       "    }\n",
       "\n",
       "    .dataframe tbody tr th {\n",
       "        vertical-align: top;\n",
       "    }\n",
       "\n",
       "    .dataframe thead th {\n",
       "        text-align: right;\n",
       "    }\n",
       "</style>\n",
       "<table border=\"1\" class=\"dataframe\">\n",
       "  <thead>\n",
       "    <tr style=\"text-align: right;\">\n",
       "      <th></th>\n",
       "      <th>Age</th>\n",
       "      <th>Number</th>\n",
       "      <th>Start</th>\n",
       "    </tr>\n",
       "  </thead>\n",
       "  <tbody>\n",
       "    <tr>\n",
       "      <td>count</td>\n",
       "      <td>81.000000</td>\n",
       "      <td>81.000000</td>\n",
       "      <td>81.000000</td>\n",
       "    </tr>\n",
       "    <tr>\n",
       "      <td>mean</td>\n",
       "      <td>83.654321</td>\n",
       "      <td>4.049383</td>\n",
       "      <td>11.493827</td>\n",
       "    </tr>\n",
       "    <tr>\n",
       "      <td>std</td>\n",
       "      <td>58.104251</td>\n",
       "      <td>1.619423</td>\n",
       "      <td>4.883962</td>\n",
       "    </tr>\n",
       "    <tr>\n",
       "      <td>min</td>\n",
       "      <td>1.000000</td>\n",
       "      <td>2.000000</td>\n",
       "      <td>1.000000</td>\n",
       "    </tr>\n",
       "    <tr>\n",
       "      <td>25%</td>\n",
       "      <td>26.000000</td>\n",
       "      <td>3.000000</td>\n",
       "      <td>9.000000</td>\n",
       "    </tr>\n",
       "    <tr>\n",
       "      <td>50%</td>\n",
       "      <td>87.000000</td>\n",
       "      <td>4.000000</td>\n",
       "      <td>13.000000</td>\n",
       "    </tr>\n",
       "    <tr>\n",
       "      <td>75%</td>\n",
       "      <td>130.000000</td>\n",
       "      <td>5.000000</td>\n",
       "      <td>16.000000</td>\n",
       "    </tr>\n",
       "    <tr>\n",
       "      <td>max</td>\n",
       "      <td>206.000000</td>\n",
       "      <td>10.000000</td>\n",
       "      <td>18.000000</td>\n",
       "    </tr>\n",
       "  </tbody>\n",
       "</table>\n",
       "</div>"
      ],
      "text/plain": [
       "              Age     Number      Start\n",
       "count   81.000000  81.000000  81.000000\n",
       "mean    83.654321   4.049383  11.493827\n",
       "std     58.104251   1.619423   4.883962\n",
       "min      1.000000   2.000000   1.000000\n",
       "25%     26.000000   3.000000   9.000000\n",
       "50%     87.000000   4.000000  13.000000\n",
       "75%    130.000000   5.000000  16.000000\n",
       "max    206.000000  10.000000  18.000000"
      ]
     },
     "execution_count": 10,
     "metadata": {},
     "output_type": "execute_result"
    }
   ],
   "source": [
    "# Summarize the data to see the distribution of data (Statistical information of numerical columns)\n",
    "kyphosis_df.describe()"
   ]
  },
  {
   "cell_type": "code",
   "execution_count": 11,
   "metadata": {},
   "outputs": [
    {
     "data": {
      "text/html": [
       "<div>\n",
       "<style scoped>\n",
       "    .dataframe tbody tr th:only-of-type {\n",
       "        vertical-align: middle;\n",
       "    }\n",
       "\n",
       "    .dataframe tbody tr th {\n",
       "        vertical-align: top;\n",
       "    }\n",
       "\n",
       "    .dataframe thead th {\n",
       "        text-align: right;\n",
       "    }\n",
       "</style>\n",
       "<table border=\"1\" class=\"dataframe\">\n",
       "  <thead>\n",
       "    <tr style=\"text-align: right;\">\n",
       "      <th></th>\n",
       "      <th>Kyphosis</th>\n",
       "    </tr>\n",
       "  </thead>\n",
       "  <tbody>\n",
       "    <tr>\n",
       "      <td>count</td>\n",
       "      <td>81</td>\n",
       "    </tr>\n",
       "    <tr>\n",
       "      <td>unique</td>\n",
       "      <td>2</td>\n",
       "    </tr>\n",
       "    <tr>\n",
       "      <td>top</td>\n",
       "      <td>absent</td>\n",
       "    </tr>\n",
       "    <tr>\n",
       "      <td>freq</td>\n",
       "      <td>64</td>\n",
       "    </tr>\n",
       "  </tbody>\n",
       "</table>\n",
       "</div>"
      ],
      "text/plain": [
       "       Kyphosis\n",
       "count        81\n",
       "unique        2\n",
       "top      absent\n",
       "freq         64"
      ]
     },
     "execution_count": 11,
     "metadata": {},
     "output_type": "execute_result"
    }
   ],
   "source": [
    "# Summarize the data to see the distribution of data (Statistical information of non-numerical columns)\n",
    "kyphosis_df.describe(exclude='number')"
   ]
  },
  {
   "cell_type": "markdown",
   "metadata": {},
   "source": [
    "#### Conclusion:\n",
    "- The dataset contains 81 rows and 4 columns\n",
    "    - **Number of observations**: 81\n",
    "    - **Number of attributes**: 3 predictor variables and 1 target variable\n",
    "        - **Predictor variables (features)** are: 'Age', 'Number', 'Start'\n",
    "        - **Target variable (label)** is: 'Kyphosis'\n",
    "- Types of the data contained within columns are int64 (3 columns) and object (1 column)\n",
    "    - **Numerical variables (features)** are: 'Age', 'Number', 'Start'\n",
    "    - **Non-numerical variables (features)** is: 'Kyphosis'\n",
    "- Data variables types:\n",
    "    - **Numerical** (Continous or Discrete): 'Age', 'Number', 'Start'\n",
    "    - **Categorical** (Nominal or Ordinal): 'Kyphosis'\n",
    "- No missing values in the dataset\n",
    "- So far, there are no feature(s) that is/are of no significance and cannot provide any insight into the dataset"
   ]
  },
  {
   "cell_type": "code",
   "execution_count": 12,
   "metadata": {},
   "outputs": [
    {
     "data": {
      "text/plain": [
       "count         81\n",
       "unique         2\n",
       "top       absent\n",
       "freq          64\n",
       "Name: Kyphosis, dtype: object"
      ]
     },
     "execution_count": 12,
     "metadata": {},
     "output_type": "execute_result"
    }
   ],
   "source": [
    "# Generate descriptive statistics of the column\n",
    "kyphosis_df['Kyphosis'].describe()"
   ]
  },
  {
   "cell_type": "code",
   "execution_count": 13,
   "metadata": {},
   "outputs": [
    {
     "data": {
      "text/plain": [
       "2"
      ]
     },
     "execution_count": 13,
     "metadata": {},
     "output_type": "execute_result"
    }
   ],
   "source": [
    "# Check the number of unique values in the column\n",
    "kyphosis_df['Kyphosis'].nunique()"
   ]
  },
  {
   "cell_type": "code",
   "execution_count": 14,
   "metadata": {},
   "outputs": [
    {
     "data": {
      "text/plain": [
       "absent     64\n",
       "present    17\n",
       "Name: Kyphosis, dtype: int64"
      ]
     },
     "execution_count": 14,
     "metadata": {},
     "output_type": "execute_result"
    }
   ],
   "source": [
    "# Check the unique values and counts of unique values\n",
    "kyphosis_df['Kyphosis'].value_counts()"
   ]
  },
  {
   "cell_type": "code",
   "execution_count": 15,
   "metadata": {},
   "outputs": [
    {
     "data": {
      "text/plain": [
       "absent     0.790123\n",
       "present    0.209877\n",
       "Name: Kyphosis, dtype: float64"
      ]
     },
     "execution_count": 15,
     "metadata": {},
     "output_type": "execute_result"
    }
   ],
   "source": [
    "# Status counts as percentages\n",
    "kyphosis_df['Kyphosis'].value_counts(normalize=True, dropna=False)"
   ]
  },
  {
   "cell_type": "markdown",
   "metadata": {},
   "source": [
    "#### Conclusion:\n",
    "- Target variable (label) is 'Kyphosis' column, it has 2 unique values (binary format) ('absent' and 'present') and its data type is object\n",
    "- The target variable (label) is categorical, which means that predicting of the target variable (label) is a **Classification problem**\n",
    "- **Class distribution** (Number of observations (rows) that belong to each class (category)):\n",
    "    - class 'absent': 64 (79%)\n",
    "    - class 'present': 17 (21%)\n",
    "- Each class does not have a same number of observations (79% vs. 21%) (imbalanced class distribution)"
   ]
  },
  {
   "cell_type": "markdown",
   "metadata": {},
   "source": [
    "### 3.2 Data Visualizations"
   ]
  },
  {
   "cell_type": "markdown",
   "metadata": {},
   "source": [
    "- Overall goal is **to visualize the data** and to get understanding of **which features are important** for analysis \n",
    "- **Types of plots for visualization**:\n",
    "    - **Univariate plots**\n",
    "        - plots of each **individual feature**\n",
    "        - to better **understand each feature**\n",
    "        - use Count plot, Bar plot, Histogram, Dist plot, Box plot, Whisker plot etc.\n",
    "    - **Multivariate plots**\n",
    "        - plots of several **(multi) features**\n",
    "        - to better **understand the relationships between features**\n",
    "        - Scatter plot, Heatmap, Pair plot, Bar plot etc.\n",
    "- In order to select the appropriate plots for visualization, first **understand the Data Variables type (Numerical or Categorical)**:\n",
    "    - Plot Categorical Distributions\n",
    "    - Plot Numerical Distributions\n",
    "    - Plot Correlations\n",
    "    - Plot Segmentations"
   ]
  },
  {
   "cell_type": "markdown",
   "metadata": {},
   "source": [
    "#### Insights we could draw from the charts:\n",
    "**1. Plot Categorical Distributions**\n",
    "   - Use Bar plot, Count plot\n",
    "   - What is the range where the categorical feature have a large number of observations?\n",
    "   - Is there are any sparse classes (classes that have a very small number of observations)?\n",
    "   - Making a note to combine or reassign some of the sparse classes\n",
    "\n",
    "**2. Plot Numerical Distributions**\n",
    "   - Use Grid of Histograms, Distplot\n",
    "   - What is the range where the target label is most distributed? (Check the distribution of target variable)\n",
    "   - Potential outliers that don't make sense\n",
    "   - Distributions that are unexpected\n",
    "   - Features that should be binary (i.e. \"wannabe indicator variables\")\n",
    "   - Boundaries that don't make sense\n",
    "   - Potential measurement errors\n",
    "\n",
    "**3. Plot Correlations**\n",
    "   - Use Scatterplot, Heatmap, Barplot\n",
    "   - Observe the relationships between label and all numeric features\t\t\n",
    "   - Observe the relationships between numeric features and other numeric features\t\t\n",
    "   - Which features are strongly (positively or negatively) correlated with the target variable (label)?\t\n",
    "   - Are there interesting or unexpected strong correlations between other features? (check for multi-co-linearity)\n",
    "   - Is there any feature that is perfect predictor of the target variable (label)?\n",
    "   \n",
    "**4. Plot Segmentations**\n",
    "   - Use Box plot\n",
    "   - Observe the relationships between categorical features and label (Distribution of label per categorical feature)\n",
    "   - Observe the relationships between categorical features and numeric features (Distribution of numeric feature per categorical feature)\n",
    "   - Median (middle vertical bar in the box)\t\t\t\t\t\t\t\t\t\n",
    "   - Min and Max"
   ]
  },
  {
   "cell_type": "code",
   "execution_count": 16,
   "metadata": {},
   "outputs": [],
   "source": [
    "# Set the aesthetic style of the plots\n",
    "sns.set_style('whitegrid')"
   ]
  },
  {
   "cell_type": "markdown",
   "metadata": {},
   "source": [
    "#### 3.2.1 Plot Categorical Distributions"
   ]
  },
  {
   "cell_type": "markdown",
   "metadata": {},
   "source": [
    "- Few things to look out for and insights we could draw from the charts:\n",
    "   - Use Bar plot, Count plot\n",
    "   - What is the range where the categorical feature have a large number of observations?\n",
    "   - Is there are any sparse classes (classes that have a very small number of observations)?\n",
    "   - Making a note to combine or reassign some of the sparse classes"
   ]
  },
  {
   "cell_type": "markdown",
   "metadata": {},
   "source": [
    "### 1. `Kyphosis` feature"
   ]
  },
  {
   "cell_type": "code",
   "execution_count": 17,
   "metadata": {},
   "outputs": [
    {
     "data": {
      "image/png": "[encoded data removed]",
      "text/plain": [
       "<Figure size 864x576 with 1 Axes>"
      ]
     },
     "metadata": {},
     "output_type": "display_data"
    }
   ],
   "source": [
    "# Set up of the graphic area size\n",
    "plt.figure(figsize=(12,8))\n",
    "\n",
    "# Display (plot) and explore the distribution of categorical data (target variable (label)) in each categorical bin\n",
    "sns.countplot(x='Kyphosis', data=kyphosis_df)\n",
    "plt.show()"
   ]
  },
  {
   "cell_type": "code",
   "execution_count": 18,
   "metadata": {},
   "outputs": [
    {
     "data": {
      "text/plain": [
       "absent     64\n",
       "present    17\n",
       "Name: Kyphosis, dtype: int64"
      ]
     },
     "execution_count": 18,
     "metadata": {},
     "output_type": "execute_result"
    }
   ],
   "source": [
    "# Check the unique values and counts of unique values\n",
    "kyphosis_df['Kyphosis'].value_counts()"
   ]
  },
  {
   "cell_type": "code",
   "execution_count": 19,
   "metadata": {},
   "outputs": [
    {
     "data": {
      "text/plain": [
       "absent     0.790123\n",
       "present    0.209877\n",
       "Name: Kyphosis, dtype: float64"
      ]
     },
     "execution_count": 19,
     "metadata": {},
     "output_type": "execute_result"
    }
   ],
   "source": [
    "# Status counts as percentages\n",
    "kyphosis_df['Kyphosis'].value_counts(normalize=True, dropna=False)"
   ]
  },
  {
   "cell_type": "markdown",
   "metadata": {},
   "source": [
    "#### Conclusion:\n",
    "- 79% of the observations (64) are in class 'absent' and 21% of the observations (17) are in class 'present', so we have imbalanced classification problem:\n",
    "    - class 'absent': 64 (79%)\n",
    "    - class 'present': 17 (21%)\n",
    "- Difference between the two classes is extreme, which means the model will do very well in terms of Accuracy, but Precision and Recall will be true metrics to evaluate the model\n",
    "\n",
    "**Use *SMOTE: Synthetic Minority Over-sampling Technique* - technique that generates synthetic samples from the minority class**"
   ]
  },
  {
   "cell_type": "markdown",
   "metadata": {},
   "source": [
    "#### 3.2.2 Plot Numerical Distributions"
   ]
  },
  {
   "cell_type": "markdown",
   "metadata": {},
   "source": [
    "- Few things to look out for and insights we could draw from the charts:\n",
    "   - Use Grid of Histograms, Distplot\n",
    "   - What is the range where the target label is most distributed? (Check the distribution of target variable)\n",
    "   - Potential outliers that don't make sense\n",
    "   - Distributions that are unexpected\n",
    "   - Features that should be binary (i.e. \"wannabe indicator variables\")\n",
    "   - Boundaries that don't make sense\n",
    "   - Potential measurement errors"
   ]
  },
  {
   "cell_type": "code",
   "execution_count": 20,
   "metadata": {},
   "outputs": [
    {
     "data": {
      "image/png": "[encoded data removed]",
      "text/plain": [
       "<Figure size 1152x576 with 3 Axes>"
      ]
     },
     "metadata": {},
     "output_type": "display_data"
    }
   ],
   "source": [
    "# Display (plot) and explore the distribution of a continious (numeric) feature\n",
    "kyphosis_df[['Age', 'Number', 'Start']].plot(kind='hist', subplots=True, layout=(1,3), figsize=(16,8))\n",
    "plt.show()"
   ]
  },
  {
   "cell_type": "markdown",
   "metadata": {},
   "source": [
    "#### Conclusion:\n",
    "- Looks like perhaps **two of the input features ('Number' and 'Start') don't have a Gaussian distribution**\n",
    "- **Feature 'Age'** seems to have **right-skewed Gaussian distribution**"
   ]
  },
  {
   "cell_type": "code",
   "execution_count": 21,
   "metadata": {
    "scrolled": false
   },
   "outputs": [
    {
     "data": {
      "text/plain": [
       "<Figure size 864x576 with 0 Axes>"
      ]
     },
     "metadata": {},
     "output_type": "display_data"
    },
    {
     "data": {
      "image/png": "[encoded data removed]",
      "text/plain": [
       "<Figure size 609.5x540 with 12 Axes>"
      ]
     },
     "metadata": {},
     "output_type": "display_data"
    }
   ],
   "source": [
    "# Set up of the graphic area size\n",
    "plt.figure(figsize=(12,8))\n",
    "\n",
    "# Display (plot) and explore the distribution of and the correlation between all numerical features\n",
    "sns.pairplot(data=kyphosis_df, hue='Kyphosis', palette='Dark2')\n",
    "plt.show()"
   ]
  },
  {
   "cell_type": "markdown",
   "metadata": {},
   "source": [
    "#### Conclusion:\n",
    "- No high correlation between features\n",
    "- No feature that perform good separation of the classes ('absent' and 'present'), and this is an indication that all features can help in accurate predictions"
   ]
  },
  {
   "cell_type": "markdown",
   "metadata": {},
   "source": [
    "### 1. `Age` feature"
   ]
  },
  {
   "cell_type": "code",
   "execution_count": 22,
   "metadata": {},
   "outputs": [
    {
     "data": {
      "image/png": "[encoded data removed]",
      "text/plain": [
       "<Figure size 864x576 with 1 Axes>"
      ]
     },
     "metadata": {},
     "output_type": "display_data"
    }
   ],
   "source": [
    "# Set up of the graphic area size\n",
    "plt.figure(figsize=(12,8))\n",
    "\n",
    "# Display (plot) and explore the distribution of a continious (numeric) feature\n",
    "sns.distplot(kyphosis_df['Age'].dropna(), kde=False, bins=30)\n",
    "plt.show()"
   ]
  },
  {
   "cell_type": "code",
   "execution_count": 23,
   "metadata": {},
   "outputs": [
    {
     "data": {
      "text/plain": [
       "83.65432098765432"
      ]
     },
     "execution_count": 23,
     "metadata": {},
     "output_type": "execute_result"
    }
   ],
   "source": [
    "# Compute the arithmetic mean (average) value\n",
    "kyphosis_df['Age'].mean()"
   ]
  },
  {
   "cell_type": "code",
   "execution_count": 24,
   "metadata": {},
   "outputs": [
    {
     "data": {
      "image/png": "[encoded data removed]",
      "text/plain": [
       "<Figure size 864x576 with 1 Axes>"
      ]
     },
     "metadata": {},
     "output_type": "display_data"
    }
   ],
   "source": [
    "# Set up of the graphic area size\n",
    "plt.figure(figsize=(12,8))\n",
    "\n",
    "# Display (plot) and explore the distribution of continious (numeric) features by class of categorical data (target variable (label))\n",
    "for i in kyphosis_df['Kyphosis'].unique():\n",
    "    sns.distplot(kyphosis_df['Age'][kyphosis_df['Kyphosis']==i], kde=True, label='{}'.format(i), bins=20)\n",
    "\n",
    "plt.legend()\n",
    "plt.show()"
   ]
  },
  {
   "cell_type": "code",
   "execution_count": 25,
   "metadata": {},
   "outputs": [
    {
     "data": {
      "image/png": "[encoded data removed]",
      "text/plain": [
       "<Figure size 1008x504 with 2 Axes>"
      ]
     },
     "metadata": {},
     "output_type": "display_data"
    }
   ],
   "source": [
    "# Display (plot) and explore the conditional relationships between continious (numeric) features\n",
    "# Initialize a 1x2 grid of facets\n",
    "g = sns.FacetGrid(kyphosis_df, col='Kyphosis', height=7)\n",
    "\n",
    "# Draw a univariate plot on each facet\n",
    "g.map(plt.hist, 'Age', bins=30)\n",
    "\n",
    "plt.show()"
   ]
  },
  {
   "cell_type": "code",
   "execution_count": 26,
   "metadata": {},
   "outputs": [
    {
     "data": {
      "text/plain": [
       "79.890625"
      ]
     },
     "execution_count": 26,
     "metadata": {},
     "output_type": "execute_result"
    }
   ],
   "source": [
    "# Compute the arithmetic mean (average) of continious (numeric) features for class of categorical data (target variable (label))\n",
    "kyphosis_df['Age'][kyphosis_df['Kyphosis']=='absent'].mean()"
   ]
  },
  {
   "cell_type": "code",
   "execution_count": 27,
   "metadata": {},
   "outputs": [
    {
     "data": {
      "text/plain": [
       "97.82352941176471"
      ]
     },
     "execution_count": 27,
     "metadata": {},
     "output_type": "execute_result"
    }
   ],
   "source": [
    "# Compute the arithmetic mean (average) of continious (numeric) features for class of categorical data (target variable (label))\n",
    "kyphosis_df['Age'][kyphosis_df['Kyphosis']=='present'].mean()"
   ]
  },
  {
   "cell_type": "markdown",
   "metadata": {},
   "source": [
    "#### Conclusion:\n",
    "- Feature 'Age' has right-skewed Gaussian distribution for class 'absent'\n",
    "- For feature 'Age', mean (average) value for class 'absent' is smaller than mean (average) value for class 'present'"
   ]
  },
  {
   "cell_type": "markdown",
   "metadata": {},
   "source": [
    "### 2. `Number` feature"
   ]
  },
  {
   "cell_type": "code",
   "execution_count": 28,
   "metadata": {},
   "outputs": [
    {
     "data": {
      "image/png": "[encoded data removed]",
      "text/plain": [
       "<Figure size 864x576 with 1 Axes>"
      ]
     },
     "metadata": {},
     "output_type": "display_data"
    }
   ],
   "source": [
    "# Set up of the graphic area size\n",
    "plt.figure(figsize=(12,8))\n",
    "\n",
    "# Display (plot) and explore the distribution of a continious (numeric) feature\n",
    "sns.distplot(kyphosis_df['Number'].dropna(), kde=False, bins=30)\n",
    "plt.show()"
   ]
  },
  {
   "cell_type": "code",
   "execution_count": 29,
   "metadata": {},
   "outputs": [
    {
     "data": {
      "text/plain": [
       "4.049382716049383"
      ]
     },
     "execution_count": 29,
     "metadata": {},
     "output_type": "execute_result"
    }
   ],
   "source": [
    "# Compute the arithmetic mean (average) value\n",
    "kyphosis_df['Number'].mean()"
   ]
  },
  {
   "cell_type": "code",
   "execution_count": 30,
   "metadata": {},
   "outputs": [
    {
     "data": {
      "image/png": "[encoded data removed]",
      "text/plain": [
       "<Figure size 864x576 with 1 Axes>"
      ]
     },
     "metadata": {},
     "output_type": "display_data"
    }
   ],
   "source": [
    "# Set up of the graphic area size\n",
    "plt.figure(figsize=(12,8))\n",
    "\n",
    "# Display (plot) and explore the distribution of continious (numeric) features by class of categorical data (target variable (label))\n",
    "for i in kyphosis_df['Kyphosis'].unique():\n",
    "    sns.distplot(kyphosis_df['Number'][kyphosis_df['Kyphosis']==i], kde=True, label='{}'.format(i), bins=20)\n",
    "\n",
    "plt.legend()\n",
    "plt.show()"
   ]
  },
  {
   "cell_type": "code",
   "execution_count": 31,
   "metadata": {},
   "outputs": [
    {
     "data": {
      "image/png": "[encoded data removed]",
      "text/plain": [
       "<Figure size 1008x504 with 2 Axes>"
      ]
     },
     "metadata": {},
     "output_type": "display_data"
    }
   ],
   "source": [
    "# Display (plot) and explore the conditional relationships between continious (numeric) features\n",
    "# Initialize a 1x2 grid of facets\n",
    "g = sns.FacetGrid(kyphosis_df, col='Kyphosis', height=7)\n",
    "\n",
    "# Draw a univariate plot on each facet\n",
    "g.map(plt.hist, 'Number', bins=30)\n",
    "\n",
    "plt.show()"
   ]
  },
  {
   "cell_type": "code",
   "execution_count": 32,
   "metadata": {},
   "outputs": [
    {
     "data": {
      "text/plain": [
       "3.75"
      ]
     },
     "execution_count": 32,
     "metadata": {},
     "output_type": "execute_result"
    }
   ],
   "source": [
    "# Compute the arithmetic mean (average) of continious (numeric) features for class of categorical data (target variable (label))\n",
    "kyphosis_df['Number'][kyphosis_df['Kyphosis']=='absent'].mean()"
   ]
  },
  {
   "cell_type": "code",
   "execution_count": 33,
   "metadata": {},
   "outputs": [
    {
     "data": {
      "text/plain": [
       "5.176470588235294"
      ]
     },
     "execution_count": 33,
     "metadata": {},
     "output_type": "execute_result"
    }
   ],
   "source": [
    "# Compute the arithmetic mean (average) of continious (numeric) features for class of categorical data (target variable (label))\n",
    "kyphosis_df['Number'][kyphosis_df['Kyphosis']=='present'].mean()"
   ]
  },
  {
   "cell_type": "markdown",
   "metadata": {},
   "source": [
    "#### Conclusion:\n",
    "- Feature 'Number' has binomial distribution for both classes\n",
    "- For feature 'Number', mean (average) value for class 'absent' is smaller than mean (average) value for class 'present'"
   ]
  },
  {
   "cell_type": "markdown",
   "metadata": {},
   "source": [
    "### 3. `Start` feature"
   ]
  },
  {
   "cell_type": "code",
   "execution_count": 34,
   "metadata": {},
   "outputs": [
    {
     "data": {
      "image/png": "[encoded data removed]",
      "text/plain": [
       "<Figure size 864x576 with 1 Axes>"
      ]
     },
     "metadata": {},
     "output_type": "display_data"
    }
   ],
   "source": [
    "# Set up of the graphic area size\n",
    "plt.figure(figsize=(12,8))\n",
    "\n",
    "# Display (plot) and explore the distribution of a continious (numeric) feature\n",
    "sns.distplot(kyphosis_df['Start'].dropna(), kde=False, bins=30)\n",
    "plt.show()"
   ]
  },
  {
   "cell_type": "code",
   "execution_count": 35,
   "metadata": {},
   "outputs": [
    {
     "data": {
      "text/plain": [
       "11.493827160493828"
      ]
     },
     "execution_count": 35,
     "metadata": {},
     "output_type": "execute_result"
    }
   ],
   "source": [
    "# Compute the arithmetic mean (average) value\n",
    "kyphosis_df['Start'].mean()"
   ]
  },
  {
   "cell_type": "code",
   "execution_count": 36,
   "metadata": {},
   "outputs": [
    {
     "data": {
      "image/png": "[encoded data removed]",
      "text/plain": [
       "<Figure size 864x576 with 1 Axes>"
      ]
     },
     "metadata": {},
     "output_type": "display_data"
    }
   ],
   "source": [
    "# Set up of the graphic area size\n",
    "plt.figure(figsize=(12,8))\n",
    "\n",
    "# Display (plot) and explore the distribution of continious (numeric) features by class of categorical data (target variable (label))\n",
    "for i in kyphosis_df['Kyphosis'].unique():\n",
    "    sns.distplot(kyphosis_df['Start'][kyphosis_df['Kyphosis']==i], kde=True, label='{}'.format(i), bins=20)\n",
    "\n",
    "plt.legend()\n",
    "plt.show()"
   ]
  },
  {
   "cell_type": "code",
   "execution_count": 37,
   "metadata": {},
   "outputs": [
    {
     "data": {
      "image/png": "[encoded data removed]",
      "text/plain": [
       "<Figure size 1008x504 with 2 Axes>"
      ]
     },
     "metadata": {},
     "output_type": "display_data"
    }
   ],
   "source": [
    "# Display (plot) and explore the conditional relationships between continious (numeric) features\n",
    "# Initialize a 1x2 grid of facets\n",
    "g = sns.FacetGrid(kyphosis_df, col='Kyphosis', height=7)\n",
    "\n",
    "# Draw a univariate plot on each facet\n",
    "g.map(plt.hist, 'Start', bins=30)\n",
    "\n",
    "plt.show()"
   ]
  },
  {
   "cell_type": "code",
   "execution_count": 38,
   "metadata": {},
   "outputs": [
    {
     "data": {
      "text/plain": [
       "12.609375"
      ]
     },
     "execution_count": 38,
     "metadata": {},
     "output_type": "execute_result"
    }
   ],
   "source": [
    "# Compute the arithmetic mean (average) of continious (numeric) features for class of categorical data (target variable (label))\n",
    "kyphosis_df['Start'][kyphosis_df['Kyphosis']=='absent'].mean()"
   ]
  },
  {
   "cell_type": "code",
   "execution_count": 39,
   "metadata": {},
   "outputs": [
    {
     "data": {
      "text/plain": [
       "7.294117647058823"
      ]
     },
     "execution_count": 39,
     "metadata": {},
     "output_type": "execute_result"
    }
   ],
   "source": [
    "# Compute the arithmetic mean (average) of continious (numeric) features for class of categorical data (target variable (label))\n",
    "kyphosis_df['Start'][kyphosis_df['Kyphosis']=='present'].mean()"
   ]
  },
  {
   "cell_type": "markdown",
   "metadata": {},
   "source": [
    "#### Conclusion:\n",
    "- Feature 'Start' has binomial distribution for both classes\n",
    "- For feature 'Start', mean (average) value for class 'absent' is higher than mean (average) value for class 'present'"
   ]
  },
  {
   "cell_type": "markdown",
   "metadata": {},
   "source": [
    "#### 3.2.3 Plot Correlations"
   ]
  },
  {
   "cell_type": "markdown",
   "metadata": {},
   "source": [
    "- Few things to look out for and insights we could draw from the charts:\n",
    "   - Use Scatterplot, Heatmap, Barplot\n",
    "   - Observe the relationships between label and all numeric features\t\t\n",
    "   - Observe the relationships between numeric features and other numeric features\t\t\n",
    "   - Which features are strongly (positively or negatively) correlated with the target variable (label)?\t\n",
    "   - Are there interesting or unexpected strong correlations between other features? (check for multi-co-linearity)\n",
    "   - Is there any feature that is perfect predictor of the target variable (label)?"
   ]
  },
  {
   "cell_type": "code",
   "execution_count": 40,
   "metadata": {},
   "outputs": [
    {
     "data": {
      "text/html": [
       "<div>\n",
       "<style scoped>\n",
       "    .dataframe tbody tr th:only-of-type {\n",
       "        vertical-align: middle;\n",
       "    }\n",
       "\n",
       "    .dataframe tbody tr th {\n",
       "        vertical-align: top;\n",
       "    }\n",
       "\n",
       "    .dataframe thead th {\n",
       "        text-align: right;\n",
       "    }\n",
       "</style>\n",
       "<table border=\"1\" class=\"dataframe\">\n",
       "  <thead>\n",
       "    <tr style=\"text-align: right;\">\n",
       "      <th></th>\n",
       "      <th>Age</th>\n",
       "      <th>Number</th>\n",
       "      <th>Start</th>\n",
       "    </tr>\n",
       "  </thead>\n",
       "  <tbody>\n",
       "    <tr>\n",
       "      <td>Age</td>\n",
       "      <td>1.000000</td>\n",
       "      <td>-0.016687</td>\n",
       "      <td>0.057828</td>\n",
       "    </tr>\n",
       "    <tr>\n",
       "      <td>Number</td>\n",
       "      <td>-0.016687</td>\n",
       "      <td>1.000000</td>\n",
       "      <td>-0.425099</td>\n",
       "    </tr>\n",
       "    <tr>\n",
       "      <td>Start</td>\n",
       "      <td>0.057828</td>\n",
       "      <td>-0.425099</td>\n",
       "      <td>1.000000</td>\n",
       "    </tr>\n",
       "  </tbody>\n",
       "</table>\n",
       "</div>"
      ],
      "text/plain": [
       "             Age    Number     Start\n",
       "Age     1.000000 -0.016687  0.057828\n",
       "Number -0.016687  1.000000 -0.425099\n",
       "Start   0.057828 -0.425099  1.000000"
      ]
     },
     "execution_count": 40,
     "metadata": {},
     "output_type": "execute_result"
    }
   ],
   "source": [
    "# Display data correlation (correlations between all numerical feature variables)\n",
    "kyphosis_df.corr()"
   ]
  },
  {
   "cell_type": "code",
   "execution_count": 41,
   "metadata": {},
   "outputs": [
    {
     "data": {
      "image/png": "[encoded data removed]",
      "text/plain": [
       "<Figure size 864x576 with 2 Axes>"
      ]
     },
     "metadata": {},
     "output_type": "display_data"
    }
   ],
   "source": [
    "# Set up of the graphic area size\n",
    "plt.figure(figsize=(12,8))\n",
    "\n",
    "# Display (plot) and explore correlations between all continuous (numeric) feature variables through visualization\n",
    "ax = sns.heatmap(data=kyphosis_df.corr(), annot=True, cmap='coolwarm')\n",
    "plt.ylim(3, 0)\n",
    "\n",
    "plt.show()"
   ]
  },
  {
   "cell_type": "markdown",
   "metadata": {},
   "source": [
    "#### Conclusion:\n",
    "- Resulting correlation table and Heatmap show the correlation score between all numerical feature variables\n",
    "- Relatively high negative correlation value between 'Number' and 'Start' predictor variables\n",
    "- There is no feature(s) that is/are perfect predictor(s) of the target variable (label)"
   ]
  },
  {
   "cell_type": "markdown",
   "metadata": {},
   "source": [
    "#### 3.2.4 Plot Segmentations"
   ]
  },
  {
   "cell_type": "markdown",
   "metadata": {},
   "source": [
    "- Few things to look out for and insights we could draw from the charts:\n",
    "   - Use Box plot\n",
    "   - Observe the relationships between categorical features and label (Distribution of label per categorical feature)\n",
    "   - Observe the relationships between categorical features and numeric features (Distribution of numeric feature per categorical feature)\n",
    "   - Median (middle vertical bar in the box)\t\t\t\t\t\t\t\t\t\n",
    "   - Min and Max"
   ]
  },
  {
   "cell_type": "code",
   "execution_count": 42,
   "metadata": {},
   "outputs": [
    {
     "data": {
      "image/png": "[encoded data removed]",
      "text/plain": [
       "<Figure size 864x576 with 3 Axes>"
      ]
     },
     "metadata": {},
     "output_type": "display_data"
    }
   ],
   "source": [
    "# Set up of the graphic area size\n",
    "plt.figure(figsize=(12,8))\n",
    "\n",
    "# Display (plot) and explore the distributions of numeric features with respect to classes of categorical data (target variable (label))\n",
    "plt.subplot(1,3,1)\n",
    "sns.boxplot(x='Kyphosis', y='Age', data=kyphosis_df)\n",
    "plt.subplot(1,3,2)\n",
    "sns.boxplot(x='Kyphosis', y='Number', data=kyphosis_df)\n",
    "plt.subplot(1,3,3)\n",
    "sns.boxplot(x='Kyphosis', y='Start', data=kyphosis_df)\n",
    "\n",
    "plt.show()"
   ]
  },
  {
   "cell_type": "markdown",
   "metadata": {},
   "source": [
    "#### Conclusion:\n",
    "- 'Age' values of class 'absent' is bigger and much spread-out than that of the other class\n",
    "- 'Start' values of class 'present' is bigger and much spread-out than that of the other class\n",
    "- Class 'absent' for feature 'Number' has lower value than class 'absent' for feature 'Start' on average"
   ]
  },
  {
   "cell_type": "markdown",
   "metadata": {},
   "source": [
    "## 4. Data Preprocessing and Feature Engineering"
   ]
  },
  {
   "cell_type": "markdown",
   "metadata": {},
   "source": [
    "#### Data Preprocessing and Feature Engineering by:\n",
    "- check the relationship of the columns (features) with the target variable (label)\n",
    "    - drop the columns (features) which are of no significance and cannot provide any insight into the dataset\n",
    "- check the missing values by columns (features) and rows (observations)\n",
    "    - drop the columns (features) and rows (observations) with missing values\n",
    "    - fill in the missing values in columns (features)\n",
    "    - drop the columns (features) which are of no significance and cannot provide any insight into the dataset\n",
    "- convert to a Dummy variable feature using One-hot coding\n",
    "- extracting the Date\n",
    "- remove erroneous values\n",
    "- redundant data\n",
    "- nullify the impact of outliers\n",
    "- etc."
   ]
  },
  {
   "cell_type": "markdown",
   "metadata": {},
   "source": [
    "### 4.1 Identify the variables"
   ]
  },
  {
   "cell_type": "markdown",
   "metadata": {},
   "source": [
    "Look at the columns of the dataset which can act as:\n",
    "- Predictor variables (features)\n",
    "- Target variable (label)"
   ]
  },
  {
   "cell_type": "code",
   "execution_count": 43,
   "metadata": {},
   "outputs": [
    {
     "data": {
      "text/plain": [
       "Index(['Kyphosis', 'Age', 'Number', 'Start'], dtype='object')"
      ]
     },
     "execution_count": 43,
     "metadata": {},
     "output_type": "execute_result"
    }
   ],
   "source": [
    "# List of the column names\n",
    "kyphosis_df.columns"
   ]
  },
  {
   "cell_type": "markdown",
   "metadata": {},
   "source": [
    "#### Conclusion:\n",
    "- **Predictor variables (features)** are: 'Age', 'Number', 'Start'\n",
    "- **Target variable (label)** is: 'Kyphosis'"
   ]
  },
  {
   "cell_type": "markdown",
   "metadata": {},
   "source": [
    "### 4.2 Dealing with Missing values"
   ]
  },
  {
   "cell_type": "code",
   "execution_count": 44,
   "metadata": {},
   "outputs": [
    {
     "data": {
      "text/plain": [
       "<matplotlib.axes._subplots.AxesSubplot at 0x22fb7c69c88>"
      ]
     },
     "execution_count": 44,
     "metadata": {},
     "output_type": "execute_result"
    },
    {
     "data": {
      "image/png": "[encoded data removed]",
      "text/plain": [
       "<Figure size 864x576 with 1 Axes>"
      ]
     },
     "metadata": {},
     "output_type": "display_data"
    }
   ],
   "source": [
    "# Set up of the graphic area size\n",
    "plt.figure(figsize=(12,8))\n",
    "\n",
    "# Display (plot) the missing values\n",
    "sns.heatmap(data=kyphosis_df.isnull(), yticklabels=False, cbar=False, cmap='viridis')"
   ]
  },
  {
   "cell_type": "code",
   "execution_count": 45,
   "metadata": {},
   "outputs": [
    {
     "data": {
      "text/plain": [
       "Start       0\n",
       "Number      0\n",
       "Age         0\n",
       "Kyphosis    0\n",
       "dtype: int64"
      ]
     },
     "execution_count": 45,
     "metadata": {},
     "output_type": "execute_result"
    }
   ],
   "source": [
    "# Total count of missing (null) values for each column and sort them in ascending order\n",
    "kyphosis_df.isnull().sum().sort_values(ascending=False)"
   ]
  },
  {
   "cell_type": "code",
   "execution_count": 46,
   "metadata": {},
   "outputs": [
    {
     "data": {
      "text/plain": [
       "Start       0.0\n",
       "Number      0.0\n",
       "Age         0.0\n",
       "Kyphosis    0.0\n",
       "dtype: float64"
      ]
     },
     "execution_count": 46,
     "metadata": {},
     "output_type": "execute_result"
    }
   ],
   "source": [
    "# Total count of missing (null) values for each column in % of the total DataFrame and sort them in ascending order\n",
    "kyphosis_df.isnull().mean().sort_values(ascending=False)*100"
   ]
  },
  {
   "cell_type": "markdown",
   "metadata": {},
   "source": [
    "#### Conclusion:\n",
    "- No missing values in the dataset"
   ]
  },
  {
   "cell_type": "markdown",
   "metadata": {},
   "source": [
    "### 4.3 Dealing with the Non-numerical features"
   ]
  },
  {
   "cell_type": "code",
   "execution_count": 47,
   "metadata": {},
   "outputs": [
    {
     "data": {
      "text/plain": [
       "Index(['Kyphosis'], dtype='object')"
      ]
     },
     "execution_count": 47,
     "metadata": {},
     "output_type": "execute_result"
    }
   ],
   "source": [
    "# List all non-numerical columns\n",
    "kyphosis_df.select_dtypes(exclude='number').columns"
   ]
  },
  {
   "cell_type": "markdown",
   "metadata": {},
   "source": [
    "#### Conclusion:\n",
    "- Target value (label) is the only non-numerical variable (feature) in the dataset"
   ]
  },
  {
   "cell_type": "markdown",
   "metadata": {},
   "source": [
    "## 5. Train and Test the Random Forest Classifier model"
   ]
  },
  {
   "cell_type": "markdown",
   "metadata": {},
   "source": [
    "### 5.1 Split the columns"
   ]
  },
  {
   "cell_type": "markdown",
   "metadata": {},
   "source": [
    "- Separate features columns (X) from target variable (label) column (y)\n",
    "- Split columns into:\n",
    "    - X-array contains the features columns that we are going to train (only numerical columns)\n",
    "    - y-array contains the target variable (label) column (what we try to predict)"
   ]
  },
  {
   "cell_type": "code",
   "execution_count": 48,
   "metadata": {},
   "outputs": [
    {
     "data": {
      "text/plain": [
       "Index(['Kyphosis', 'Age', 'Number', 'Start'], dtype='object')"
      ]
     },
     "execution_count": 48,
     "metadata": {},
     "output_type": "execute_result"
    }
   ],
   "source": [
    "# List of the column names\n",
    "kyphosis_df.columns"
   ]
  },
  {
   "cell_type": "code",
   "execution_count": 49,
   "metadata": {},
   "outputs": [],
   "source": [
    "# X-array\n",
    "X = kyphosis_df.drop('Kyphosis',axis=1)\n",
    "# or X = kyphosis_df[['Age', 'Number', 'Start']]\n",
    "\n",
    "# y-array\n",
    "y = kyphosis_df['Kyphosis']"
   ]
  },
  {
   "cell_type": "markdown",
   "metadata": {},
   "source": [
    "### 5.2 Split the data into Training dataset and Testing dataset"
   ]
  },
  {
   "cell_type": "markdown",
   "metadata": {},
   "source": [
    "- Training dataset is used to train out the model\n",
    "- Testing dataset is used to test (evaluate) the model once it is trained\n",
    "- Split the data into Training dataset and Testing dataset by Tuple unpacking\n",
    "    - test_size is the percentage of dataset that we want to be allocated to the test size (0.3 = 30%)\n",
    "    - random_state is specific set of random splits on data\n",
    "- Split the Classified dataset (150 observations) into:\n",
    "    - 70% Training data (105 observations)\n",
    "    - 30% Testing data (45 observations)"
   ]
  },
  {
   "cell_type": "code",
   "execution_count": 50,
   "metadata": {},
   "outputs": [],
   "source": [
    "# Import train_test_split function from sklearn.model_selection\n",
    "from sklearn.model_selection import train_test_split"
   ]
  },
  {
   "cell_type": "code",
   "execution_count": 51,
   "metadata": {},
   "outputs": [],
   "source": [
    "# Split the data into Training dataset and Testing dataset by Tuple unpacking\n",
    "X_train, X_test, y_train, y_test = train_test_split(X, y, test_size = 0.3, random_state = 101)"
   ]
  },
  {
   "cell_type": "code",
   "execution_count": 52,
   "metadata": {},
   "outputs": [
    {
     "data": {
      "text/plain": [
       "(56, 3)"
      ]
     },
     "execution_count": 52,
     "metadata": {},
     "output_type": "execute_result"
    }
   ],
   "source": [
    "# Shape of input Training dataset\n",
    "X_train.shape"
   ]
  },
  {
   "cell_type": "code",
   "execution_count": 53,
   "metadata": {},
   "outputs": [
    {
     "data": {
      "text/plain": [
       "(56,)"
      ]
     },
     "execution_count": 53,
     "metadata": {},
     "output_type": "execute_result"
    }
   ],
   "source": [
    "# Shape of output Training dataset\n",
    "y_train.shape"
   ]
  },
  {
   "cell_type": "code",
   "execution_count": 54,
   "metadata": {},
   "outputs": [
    {
     "data": {
      "text/plain": [
       "(25, 3)"
      ]
     },
     "execution_count": 54,
     "metadata": {},
     "output_type": "execute_result"
    }
   ],
   "source": [
    "# Shape of input Testing dataset\n",
    "X_test.shape"
   ]
  },
  {
   "cell_type": "code",
   "execution_count": 55,
   "metadata": {},
   "outputs": [
    {
     "data": {
      "text/plain": [
       "(25,)"
      ]
     },
     "execution_count": 55,
     "metadata": {},
     "output_type": "execute_result"
    }
   ],
   "source": [
    "# Shape of output Testing dataset\n",
    "y_test.shape"
   ]
  },
  {
   "cell_type": "markdown",
   "metadata": {},
   "source": [
    "### 5.3 Create the Random Forest Classifier model"
   ]
  },
  {
   "cell_type": "code",
   "execution_count": 56,
   "metadata": {},
   "outputs": [],
   "source": [
    "# Import the 'RandomForestClassifier' model from family 'tree' of Scikit-Learn\n",
    "from sklearn.ensemble import RandomForestClassifier"
   ]
  },
  {
   "cell_type": "code",
   "execution_count": 57,
   "metadata": {},
   "outputs": [],
   "source": [
    "# Instantiate the RandomForestClassifier() model (Estimator) with parameters\n",
    "# Create an instance of class RandomForestClassifier() model (RandomForestClassifier object)\n",
    "# n_estimators - number of trees in the forest (number of estimators for the model)\n",
    "rfc_model = RandomForestClassifier(n_estimators=200)"
   ]
  },
  {
   "cell_type": "markdown",
   "metadata": {},
   "source": [
    "### 5.4 Train / fit the Random Forest Classifier model"
   ]
  },
  {
   "cell_type": "code",
   "execution_count": 58,
   "metadata": {},
   "outputs": [
    {
     "data": {
      "text/plain": [
       "RandomForestClassifier(bootstrap=True, class_weight=None, criterion='gini',\n",
       "                       max_depth=None, max_features='auto', max_leaf_nodes=None,\n",
       "                       min_impurity_decrease=0.0, min_impurity_split=None,\n",
       "                       min_samples_leaf=1, min_samples_split=2,\n",
       "                       min_weight_fraction_leaf=0.0, n_estimators=200,\n",
       "                       n_jobs=None, oob_score=False, random_state=None,\n",
       "                       verbose=0, warm_start=False)"
      ]
     },
     "execution_count": 58,
     "metadata": {},
     "output_type": "execute_result"
    }
   ],
   "source": [
    "# Train / fit the Random Forest Classifier model on Training dataset\n",
    "rfc_model.fit(X_train,y_train)"
   ]
  },
  {
   "cell_type": "markdown",
   "metadata": {},
   "source": [
    "### 5.5 Predictions from the model on Testing data"
   ]
  },
  {
   "cell_type": "markdown",
   "metadata": {},
   "source": [
    "- Predictions from the model are performed with observations that the model has never seen before\n",
    "- Observations were previously stored in the Testing dataset (X_test)"
   ]
  },
  {
   "cell_type": "code",
   "execution_count": 59,
   "metadata": {},
   "outputs": [
    {
     "data": {
      "text/plain": [
       "array(['absent', 'present', 'present', 'absent', 'absent', 'absent',\n",
       "       'absent', 'absent', 'absent', 'absent', 'absent', 'absent',\n",
       "       'absent', 'absent', 'absent', 'absent', 'absent', 'absent',\n",
       "       'absent', 'absent', 'absent', 'absent', 'absent', 'absent',\n",
       "       'absent'], dtype=object)"
      ]
     },
     "execution_count": 59,
     "metadata": {},
     "output_type": "execute_result"
    }
   ],
   "source": [
    "# Get the predictions from the model based of the Testing dataset\n",
    "predictions = rfc_model.predict(X_test)\n",
    "\n",
    "# Check the predicted values\n",
    "predictions"
   ]
  },
  {
   "cell_type": "markdown",
   "metadata": {},
   "source": [
    "### 5.6 Evaluate the model on Testing data"
   ]
  },
  {
   "cell_type": "markdown",
   "metadata": {},
   "source": [
    "- Provides the score for the Testing data\n",
    "- Model predicts the class of the data and predicted class is matched with output Testing label to give the Accuracy"
   ]
  },
  {
   "cell_type": "markdown",
   "metadata": {},
   "source": [
    "#### 5.6.1 Classification report "
   ]
  },
  {
   "cell_type": "markdown",
   "metadata": {},
   "source": [
    "- Summarize (evaluate) the performance of the classifier on Testing data\n",
    "- Basic terminology used in Classification report:\t\t\t\t\t\t\t\t\n",
    "    - **precision** -> how many times the positive prediction was actually positive (TP / (TP+FP))\n",
    "\t- **recall** -> out of all positive points how many were predicted positive (TP / (TP+FN))\n",
    "\t- **f1-score** -> Harmonic mean of precision and recall ((precision * recall) / (precision + recall))\n",
    "\t- **support** -> quantity per class"
   ]
  },
  {
   "cell_type": "code",
   "execution_count": 60,
   "metadata": {},
   "outputs": [],
   "source": [
    "# Import the Classification report from Scikit-Learn metrics\n",
    "from sklearn.metrics import classification_report"
   ]
  },
  {
   "cell_type": "code",
   "execution_count": 61,
   "metadata": {},
   "outputs": [
    {
     "name": "stdout",
     "output_type": "stream",
     "text": [
      "              precision    recall  f1-score   support\n",
      "\n",
      "      absent       0.74      1.00      0.85        17\n",
      "     present       1.00      0.25      0.40         8\n",
      "\n",
      "    accuracy                           0.76        25\n",
      "   macro avg       0.87      0.62      0.62        25\n",
      "weighted avg       0.82      0.76      0.71        25\n",
      "\n"
     ]
    }
   ],
   "source": [
    "# Evaluate the performance of the model on Testing dataset by using Classification report\n",
    "print(classification_report(y_test, predictions))"
   ]
  },
  {
   "cell_type": "markdown",
   "metadata": {},
   "source": [
    "##### Conclusion:\n",
    "- Accuracy of 76% is OK, but not fantastic, due to the imbalanced dataset\n",
    "- True class we should be looking is the one that has lower representation (minority class) and it is class 'present'\n",
    "- True notification whether or not the model is doing well is f1-score on class 'present' which is only 0.40\n",
    "- It's apparent that the classifier is underperforming for class 'present' in terms of recall and f-score, and precision is excellent\n",
    "- For class 'absent' the classifier is performing very good in terms of recall and f1-score, but slightly lacking with precision"
   ]
  },
  {
   "cell_type": "markdown",
   "metadata": {},
   "source": [
    "#### 5.6.2 Confusion matrix"
   ]
  },
  {
   "cell_type": "markdown",
   "metadata": {},
   "source": [
    "- Summary of prediction results on a Classification problem\n",
    "- Use performance metrics to describe (evaluate) the performance of the Classification models on Testing data for which the true values are already known\n",
    "- Basic terminology used in Confusion Matrix:\t\t\t\t\t\t\t\t\n",
    "    - **True Positive (TP)** -> reality is yes and predict is yes\n",
    "\t- **False Positive (FP)** -> reality is no and predict is yes (Type 1 error)\n",
    "\t- **False Negative (FN)** -> reality is yes and predict is no (Type 2 error)\n",
    "\t- **True Negative (TN)** -> reality is no and predict is no\n",
    "\n",
    "            TP | FN\n",
    "            ___ ___\n",
    "\n",
    "            FP | TN"
   ]
  },
  {
   "cell_type": "code",
   "execution_count": 62,
   "metadata": {},
   "outputs": [],
   "source": [
    "# Import the Confusion matrix from Scikit-Learn metrics\n",
    "from sklearn.metrics import confusion_matrix"
   ]
  },
  {
   "cell_type": "code",
   "execution_count": 63,
   "metadata": {},
   "outputs": [
    {
     "name": "stdout",
     "output_type": "stream",
     "text": [
      "[[17  0]\n",
      " [ 6  2]]\n"
     ]
    }
   ],
   "source": [
    "# Evaluate the performance of the model on Testing dataset by using Confusion matrix\n",
    "print(confusion_matrix(y_test, predictions))"
   ]
  },
  {
   "cell_type": "markdown",
   "metadata": {},
   "source": [
    "##### Conclusion:\n",
    "- TP = 17\n",
    "- FN = 0\n",
    "- FP = 6\n",
    "- TN = 2"
   ]
  },
  {
   "cell_type": "markdown",
   "metadata": {},
   "source": [
    "### 5.7 Feature Importance"
   ]
  },
  {
   "cell_type": "code",
   "execution_count": 64,
   "metadata": {},
   "outputs": [],
   "source": [
    "# Get the Feature Importance scores\n",
    "importance = rfc_model.feature_importances_"
   ]
  },
  {
   "cell_type": "code",
   "execution_count": 65,
   "metadata": {},
   "outputs": [
    {
     "name": "stdout",
     "output_type": "stream",
     "text": [
      "Feature: 0, Score: 0.44555\n",
      "Feature: 1, Score: 0.22320\n",
      "Feature: 2, Score: 0.33124\n"
     ]
    }
   ],
   "source": [
    "# Summarize the Feature Importance scores\n",
    "for i,v in enumerate(importance):\n",
    "    print('Feature: %0d, Score: %.5f' % (i,v))"
   ]
  },
  {
   "cell_type": "code",
   "execution_count": 66,
   "metadata": {},
   "outputs": [
    {
     "data": {
      "image/png": "[encoded data removed]",
      "text/plain": [
       "<Figure size 864x576 with 1 Axes>"
      ]
     },
     "metadata": {},
     "output_type": "display_data"
    }
   ],
   "source": [
    "# Set up of the graphic area size\n",
    "plt.figure(figsize=(12,8))\n",
    "\n",
    "# Plot the Feature Importance scores\n",
    "plt.bar([x for x in range(len(importance))], importance)\n",
    "\n",
    "plt.show()"
   ]
  },
  {
   "cell_type": "code",
   "execution_count": 67,
   "metadata": {},
   "outputs": [
    {
     "data": {
      "text/html": [
       "<div>\n",
       "<style scoped>\n",
       "    .dataframe tbody tr th:only-of-type {\n",
       "        vertical-align: middle;\n",
       "    }\n",
       "\n",
       "    .dataframe tbody tr th {\n",
       "        vertical-align: top;\n",
       "    }\n",
       "\n",
       "    .dataframe thead th {\n",
       "        text-align: right;\n",
       "    }\n",
       "</style>\n",
       "<table border=\"1\" class=\"dataframe\">\n",
       "  <thead>\n",
       "    <tr style=\"text-align: right;\">\n",
       "      <th></th>\n",
       "      <th>Feature Importance</th>\n",
       "    </tr>\n",
       "  </thead>\n",
       "  <tbody>\n",
       "    <tr>\n",
       "      <td>Age</td>\n",
       "      <td>0.445552</td>\n",
       "    </tr>\n",
       "    <tr>\n",
       "      <td>Start</td>\n",
       "      <td>0.331243</td>\n",
       "    </tr>\n",
       "    <tr>\n",
       "      <td>Number</td>\n",
       "      <td>0.223205</td>\n",
       "    </tr>\n",
       "  </tbody>\n",
       "</table>\n",
       "</div>"
      ],
      "text/plain": [
       "        Feature Importance\n",
       "Age               0.445552\n",
       "Start             0.331243\n",
       "Number            0.223205"
      ]
     },
     "execution_count": 67,
     "metadata": {},
     "output_type": "execute_result"
    }
   ],
   "source": [
    "# Get the Feature Importance scores\n",
    "f_i = rfc_model.feature_importances_\n",
    "\n",
    "# Get the sorted Feature Importance scores\n",
    "feature_importance = pd.DataFrame(f_i, index=X_train.columns, columns=['Feature Importance']).sort_values('Feature Importance', ascending=False)\n",
    "\n",
    "# Check the sorted Feature Importance scores\n",
    "feature_importance"
   ]
  },
  {
   "cell_type": "markdown",
   "metadata": {},
   "source": [
    "##### Conclusion:\n",
    "- The results suggest perhaps one of the three features as being important to prediction and it is feature 'Age'"
   ]
  },
  {
   "cell_type": "markdown",
   "metadata": {},
   "source": [
    "### 5.8 GridSearchCV"
   ]
  },
  {
   "cell_type": "markdown",
   "metadata": {},
   "source": [
    "### GridSearchCV\n",
    "- improve the model by **tuning / adjust the hyper-parameters of an estimator (model)**\n",
    "- to **find the names and current values for all parameters for a given estimator** use `estimator().get_params()`\n",
    "- Scikit-learn has **built-in functionality** called **GridSearchCV** (CV stands for Cross-Validation):\n",
    "    - to find the right parameters to adjust\n",
    "    - to create a 'grid' of those parameters\n",
    "    - to try out all the possible combinations\n",
    "- **GridSearchCV takes a Grid of parameters defined as a Dictionary** that should be tried and to train the model\n",
    "    - keys - the parameters that should be tried in a model to train\n",
    "    - values - the list of settings to be tested\n",
    "- **GridSearchCV is a meta-estimator**, because it **takes an estimator** and **creates a new estimator**, that behaves exactly the same"
   ]
  },
  {
   "cell_type": "markdown",
   "metadata": {},
   "source": [
    "### GridSearchCV for Random Forest Classifier:\n",
    "- **hyper-parameters for Random Forest Classifier** are bootstrap, class_weight, criterion='gini', max_depth, max_features, max_leaf_nodes, min_impurity_decrease, min_impurity_split, min_samples_leaf, min_samples_split, min_weight_fraction_leaf, n_estimators, n_jobs, oob_score, random_state, verbose, warm_start\n",
    "- **most common arguments** in GridSearchCV for Random Forest Classifier:\n",
    "    - **bootstrap** - Whether bootstrap samples are used when building trees (default is True)\n",
    "    - **criterion** - The function to measure the quality of a split ('gini', 'entropy')\n",
    "    - **n_estimators** - The number of trees in the forest (number of estimators for the model)\n",
    "- more information: https://scikit-learn.org/stable/modules/generated/sklearn.ensemble.RandomForestClassifier.html"
   ]
  },
  {
   "cell_type": "markdown",
   "metadata": {},
   "source": [
    "#### 5.8.1 Create the Grid of parameters"
   ]
  },
  {
   "cell_type": "code",
   "execution_count": 68,
   "metadata": {},
   "outputs": [],
   "source": [
    "# Import the GridSearchCV built-in function from Scikit-Learn\n",
    "from sklearn.model_selection import GridSearchCV"
   ]
  },
  {
   "cell_type": "code",
   "execution_count": 69,
   "metadata": {},
   "outputs": [
    {
     "data": {
      "text/plain": [
       "{'bootstrap': True,\n",
       " 'class_weight': None,\n",
       " 'criterion': 'gini',\n",
       " 'max_depth': None,\n",
       " 'max_features': 'auto',\n",
       " 'max_leaf_nodes': None,\n",
       " 'min_impurity_decrease': 0.0,\n",
       " 'min_impurity_split': None,\n",
       " 'min_samples_leaf': 1,\n",
       " 'min_samples_split': 2,\n",
       " 'min_weight_fraction_leaf': 0.0,\n",
       " 'n_estimators': 'warn',\n",
       " 'n_jobs': None,\n",
       " 'oob_score': False,\n",
       " 'random_state': None,\n",
       " 'verbose': 0,\n",
       " 'warm_start': False}"
      ]
     },
     "execution_count": 69,
     "metadata": {},
     "output_type": "execute_result"
    }
   ],
   "source": [
    "# Find the names and current values for all parameters for the Estimator\n",
    "RandomForestClassifier().get_params()"
   ]
  },
  {
   "cell_type": "code",
   "execution_count": 70,
   "metadata": {},
   "outputs": [],
   "source": [
    "# Create a Grid of parameters variable defined as Dictionary\n",
    "param_grid = {'bootstrap': [True, False], \n",
    "              'criterion': ['gini', 'entropy'],\n",
    "              'n_estimators': [100, 200, 300]}"
   ]
  },
  {
   "cell_type": "markdown",
   "metadata": {},
   "source": [
    "#### 5.8.2 Create the GridSearchCV model (Re-create the Random Forest Classifier model)"
   ]
  },
  {
   "cell_type": "code",
   "execution_count": 71,
   "metadata": {},
   "outputs": [],
   "source": [
    "# Create an instance of GridSearchCV() model (GridSearchCV object)\n",
    "rfc_model_cv = GridSearchCV(RandomForestClassifier(), param_grid, refit=True, verbose=3)"
   ]
  },
  {
   "cell_type": "markdown",
   "metadata": {},
   "source": [
    "#### 5.8.3 Train / fit the GridSearchCV model (Re-train / Re-fit the Random Forest Classifier model)"
   ]
  },
  {
   "cell_type": "code",
   "execution_count": 72,
   "metadata": {},
   "outputs": [
    {
     "name": "stderr",
     "output_type": "stream",
     "text": [
      "C:\\Users\\Administrator\\Anaconda3\\lib\\site-packages\\sklearn\\model_selection\\_split.py:1978: FutureWarning: The default value of cv will change from 3 to 5 in version 0.22. Specify it explicitly to silence this warning.\n",
      "  warnings.warn(CV_WARNING, FutureWarning)\n",
      "[Parallel(n_jobs=1)]: Using backend SequentialBackend with 1 concurrent workers.\n",
      "[Parallel(n_jobs=1)]: Done   1 out of   1 | elapsed:    0.1s remaining:    0.0s\n"
     ]
    },
    {
     "name": "stdout",
     "output_type": "stream",
     "text": [
      "Fitting 3 folds for each of 12 candidates, totalling 36 fits\n",
      "[CV] bootstrap=True, criterion=gini, n_estimators=100 ................\n",
      "[CV]  bootstrap=True, criterion=gini, n_estimators=100, score=0.842, total=   0.2s\n",
      "[CV] bootstrap=True, criterion=gini, n_estimators=100 ................\n",
      "[CV]  bootstrap=True, criterion=gini, n_estimators=100, score=0.737, total=   0.2s\n",
      "[CV] bootstrap=True, criterion=gini, n_estimators=100 ................\n",
      "[CV]  bootstrap=True, criterion=gini, n_estimators=100, score=0.833, total=   0.2s\n",
      "[CV] bootstrap=True, criterion=gini, n_estimators=200 ................\n"
     ]
    },
    {
     "name": "stderr",
     "output_type": "stream",
     "text": [
      "[Parallel(n_jobs=1)]: Done   2 out of   2 | elapsed:    0.3s remaining:    0.0s\n"
     ]
    },
    {
     "name": "stdout",
     "output_type": "stream",
     "text": [
      "[CV]  bootstrap=True, criterion=gini, n_estimators=200, score=0.895, total=   0.4s\n",
      "[CV] bootstrap=True, criterion=gini, n_estimators=200 ................\n",
      "[CV]  bootstrap=True, criterion=gini, n_estimators=200, score=0.684, total=   0.4s\n",
      "[CV] bootstrap=True, criterion=gini, n_estimators=200 ................\n",
      "[CV]  bootstrap=True, criterion=gini, n_estimators=200, score=0.833, total=   0.4s\n",
      "[CV] bootstrap=True, criterion=gini, n_estimators=300 ................\n",
      "[CV]  bootstrap=True, criterion=gini, n_estimators=300, score=0.842, total=   0.5s\n",
      "[CV] bootstrap=True, criterion=gini, n_estimators=300 ................\n",
      "[CV]  bootstrap=True, criterion=gini, n_estimators=300, score=0.684, total=   0.7s\n",
      "[CV] bootstrap=True, criterion=gini, n_estimators=300 ................\n",
      "[CV]  bootstrap=True, criterion=gini, n_estimators=300, score=0.833, total=   0.6s\n",
      "[CV] bootstrap=True, criterion=entropy, n_estimators=100 .............\n",
      "[CV]  bootstrap=True, criterion=entropy, n_estimators=100, score=0.895, total=   0.2s\n",
      "[CV] bootstrap=True, criterion=entropy, n_estimators=100 .............\n",
      "[CV]  bootstrap=True, criterion=entropy, n_estimators=100, score=0.684, total=   0.2s\n",
      "[CV] bootstrap=True, criterion=entropy, n_estimators=100 .............\n",
      "[CV]  bootstrap=True, criterion=entropy, n_estimators=100, score=0.833, total=   0.2s\n",
      "[CV] bootstrap=True, criterion=entropy, n_estimators=200 .............\n",
      "[CV]  bootstrap=True, criterion=entropy, n_estimators=200, score=0.895, total=   0.5s\n",
      "[CV] bootstrap=True, criterion=entropy, n_estimators=200 .............\n",
      "[CV]  bootstrap=True, criterion=entropy, n_estimators=200, score=0.684, total=   0.3s\n",
      "[CV] bootstrap=True, criterion=entropy, n_estimators=200 .............\n",
      "[CV]  bootstrap=True, criterion=entropy, n_estimators=200, score=0.833, total=   0.4s\n",
      "[CV] bootstrap=True, criterion=entropy, n_estimators=300 .............\n",
      "[CV]  bootstrap=True, criterion=entropy, n_estimators=300, score=0.895, total=   0.5s\n",
      "[CV] bootstrap=True, criterion=entropy, n_estimators=300 .............\n",
      "[CV]  bootstrap=True, criterion=entropy, n_estimators=300, score=0.684, total=   0.7s\n",
      "[CV] bootstrap=True, criterion=entropy, n_estimators=300 .............\n",
      "[CV]  bootstrap=True, criterion=entropy, n_estimators=300, score=0.833, total=   0.5s\n",
      "[CV] bootstrap=False, criterion=gini, n_estimators=100 ...............\n",
      "[CV]  bootstrap=False, criterion=gini, n_estimators=100, score=0.737, total=   0.1s\n",
      "[CV] bootstrap=False, criterion=gini, n_estimators=100 ...............\n",
      "[CV]  bootstrap=False, criterion=gini, n_estimators=100, score=0.579, total=   0.2s\n",
      "[CV] bootstrap=False, criterion=gini, n_estimators=100 ...............\n",
      "[CV]  bootstrap=False, criterion=gini, n_estimators=100, score=0.778, total=   0.2s\n",
      "[CV] bootstrap=False, criterion=gini, n_estimators=200 ...............\n",
      "[CV]  bootstrap=False, criterion=gini, n_estimators=200, score=0.737, total=   0.3s\n",
      "[CV] bootstrap=False, criterion=gini, n_estimators=200 ...............\n",
      "[CV]  bootstrap=False, criterion=gini, n_estimators=200, score=0.579, total=   0.3s\n",
      "[CV] bootstrap=False, criterion=gini, n_estimators=200 ...............\n",
      "[CV]  bootstrap=False, criterion=gini, n_estimators=200, score=0.778, total=   0.4s\n",
      "[CV] bootstrap=False, criterion=gini, n_estimators=300 ...............\n",
      "[CV]  bootstrap=False, criterion=gini, n_estimators=300, score=0.737, total=   0.9s\n",
      "[CV] bootstrap=False, criterion=gini, n_estimators=300 ...............\n",
      "[CV]  bootstrap=False, criterion=gini, n_estimators=300, score=0.526, total=   0.6s\n",
      "[CV] bootstrap=False, criterion=gini, n_estimators=300 ...............\n",
      "[CV]  bootstrap=False, criterion=gini, n_estimators=300, score=0.778, total=   0.5s\n",
      "[CV] bootstrap=False, criterion=entropy, n_estimators=100 ............\n",
      "[CV]  bootstrap=False, criterion=entropy, n_estimators=100, score=0.789, total=   0.3s\n",
      "[CV] bootstrap=False, criterion=entropy, n_estimators=100 ............\n",
      "[CV]  bootstrap=False, criterion=entropy, n_estimators=100, score=0.474, total=   0.4s\n",
      "[CV] bootstrap=False, criterion=entropy, n_estimators=100 ............\n",
      "[CV]  bootstrap=False, criterion=entropy, n_estimators=100, score=0.778, total=   0.3s\n",
      "[CV] bootstrap=False, criterion=entropy, n_estimators=200 ............\n",
      "[CV]  bootstrap=False, criterion=entropy, n_estimators=200, score=0.737, total=   0.6s\n",
      "[CV] bootstrap=False, criterion=entropy, n_estimators=200 ............\n",
      "[CV]  bootstrap=False, criterion=entropy, n_estimators=200, score=0.474, total=   0.4s\n",
      "[CV] bootstrap=False, criterion=entropy, n_estimators=200 ............\n",
      "[CV]  bootstrap=False, criterion=entropy, n_estimators=200, score=0.778, total=   0.4s\n",
      "[CV] bootstrap=False, criterion=entropy, n_estimators=300 ............\n",
      "[CV]  bootstrap=False, criterion=entropy, n_estimators=300, score=0.737, total=   0.6s\n",
      "[CV] bootstrap=False, criterion=entropy, n_estimators=300 ............\n",
      "[CV]  bootstrap=False, criterion=entropy, n_estimators=300, score=0.474, total=   2.5s\n",
      "[CV] bootstrap=False, criterion=entropy, n_estimators=300 ............\n",
      "[CV]  bootstrap=False, criterion=entropy, n_estimators=300, score=0.778, total=   0.9s\n"
     ]
    },
    {
     "name": "stderr",
     "output_type": "stream",
     "text": [
      "[Parallel(n_jobs=1)]: Done  36 out of  36 | elapsed:   16.9s finished\n",
      "C:\\Users\\Administrator\\Anaconda3\\lib\\site-packages\\sklearn\\model_selection\\_search.py:813: DeprecationWarning: The default of the `iid` parameter will change from True to False in version 0.22 and will be removed in 0.24. This will change numeric results when test-set sizes are unequal.\n",
      "  DeprecationWarning)\n"
     ]
    },
    {
     "data": {
      "text/plain": [
       "GridSearchCV(cv='warn', error_score='raise-deprecating',\n",
       "             estimator=RandomForestClassifier(bootstrap=True, class_weight=None,\n",
       "                                              criterion='gini', max_depth=None,\n",
       "                                              max_features='auto',\n",
       "                                              max_leaf_nodes=None,\n",
       "                                              min_impurity_decrease=0.0,\n",
       "                                              min_impurity_split=None,\n",
       "                                              min_samples_leaf=1,\n",
       "                                              min_samples_split=2,\n",
       "                                              min_weight_fraction_leaf=0.0,\n",
       "                                              n_estimators='warn', n_jobs=None,\n",
       "                                              oob_score=False,\n",
       "                                              random_state=None, verbose=0,\n",
       "                                              warm_start=False),\n",
       "             iid='warn', n_jobs=None,\n",
       "             param_grid={'bootstrap': [True, False],\n",
       "                         'criterion': ['gini', 'entropy'],\n",
       "                         'n_estimators': [100, 200, 300]},\n",
       "             pre_dispatch='2*n_jobs', refit=True, return_train_score=False,\n",
       "             scoring=None, verbose=3)"
      ]
     },
     "execution_count": 72,
     "metadata": {},
     "output_type": "execute_result"
    }
   ],
   "source": [
    "# Train / fit the Support Vector Machines model on Training dataset\n",
    "rfc_model_cv.fit(X_train, y_train)"
   ]
  },
  {
   "cell_type": "code",
   "execution_count": 73,
   "metadata": {},
   "outputs": [
    {
     "name": "stdout",
     "output_type": "stream",
     "text": [
      "Best parameters (tuned hyper-parameters):  {'bootstrap': True, 'criterion': 'gini', 'n_estimators': 100}\n"
     ]
    }
   ],
   "source": [
    "# Get the combination of parameters (best parameter setting) that has the best score\n",
    "print(\"Best parameters (tuned hyper-parameters): \", rfc_model_cv.best_params_)"
   ]
  },
  {
   "cell_type": "code",
   "execution_count": 74,
   "metadata": {},
   "outputs": [
    {
     "name": "stdout",
     "output_type": "stream",
     "text": [
      "Best score:  0.8035714285714286\n"
     ]
    }
   ],
   "source": [
    "# Get the best score\n",
    "print(\"Best score: \", rfc_model_cv.best_score_)"
   ]
  },
  {
   "cell_type": "code",
   "execution_count": 75,
   "metadata": {},
   "outputs": [
    {
     "name": "stdout",
     "output_type": "stream",
     "text": [
      "Best Estimator:  RandomForestClassifier(bootstrap=True, class_weight=None, criterion='gini',\n",
      "                       max_depth=None, max_features='auto', max_leaf_nodes=None,\n",
      "                       min_impurity_decrease=0.0, min_impurity_split=None,\n",
      "                       min_samples_leaf=1, min_samples_split=2,\n",
      "                       min_weight_fraction_leaf=0.0, n_estimators=100,\n",
      "                       n_jobs=None, oob_score=False, random_state=None,\n",
      "                       verbose=0, warm_start=False)\n"
     ]
    }
   ],
   "source": [
    "# Get the best Estimator_\n",
    "print(\"Best Estimator: \", rfc_model_cv.best_estimator_)"
   ]
  },
  {
   "cell_type": "markdown",
   "metadata": {},
   "source": [
    "#### 5.8.4 Predictions from the GridSearchCV model (Re-predictions from the Random Forest Classifier model) on Testing data"
   ]
  },
  {
   "cell_type": "code",
   "execution_count": 76,
   "metadata": {},
   "outputs": [
    {
     "data": {
      "text/plain": [
       "array(['absent', 'present', 'present', 'absent', 'absent', 'absent',\n",
       "       'absent', 'absent', 'absent', 'absent', 'absent', 'absent',\n",
       "       'absent', 'absent', 'absent', 'absent', 'absent', 'absent',\n",
       "       'absent', 'absent', 'absent', 'absent', 'absent', 'absent',\n",
       "       'absent'], dtype=object)"
      ]
     },
     "execution_count": 76,
     "metadata": {},
     "output_type": "execute_result"
    }
   ],
   "source": [
    "# Get the re-predictions from the model based of the Testing dataset\n",
    "rfc_model_cv_predictions = rfc_model_cv.predict(X_test)\n",
    "\n",
    "# Check the re-predicted values\n",
    "rfc_model_cv_predictions"
   ]
  },
  {
   "cell_type": "markdown",
   "metadata": {},
   "source": [
    "#### 5.8.5 Evaluate the GridSearchCV model (Re-evaluate the Random Forest Classifier model) on Testing data"
   ]
  },
  {
   "cell_type": "markdown",
   "metadata": {},
   "source": [
    "#### 1. Classification report "
   ]
  },
  {
   "cell_type": "code",
   "execution_count": 77,
   "metadata": {},
   "outputs": [
    {
     "name": "stdout",
     "output_type": "stream",
     "text": [
      "              precision    recall  f1-score   support\n",
      "\n",
      "      absent       0.74      1.00      0.85        17\n",
      "     present       1.00      0.25      0.40         8\n",
      "\n",
      "    accuracy                           0.76        25\n",
      "   macro avg       0.87      0.62      0.62        25\n",
      "weighted avg       0.82      0.76      0.71        25\n",
      "\n"
     ]
    }
   ],
   "source": [
    "# Re-evaluate the performance of the model on Testing dataset by using Classification report\n",
    "print(classification_report(y_test, rfc_model_cv_predictions))"
   ]
  },
  {
   "cell_type": "markdown",
   "metadata": {},
   "source": [
    "##### Conclusion:\n",
    "- Accuracy has not be changed before and after GridSearchCV\n",
    "- No improvements on metrics of both classes were made"
   ]
  },
  {
   "cell_type": "markdown",
   "metadata": {},
   "source": [
    "#### 2. Confusion matrix"
   ]
  },
  {
   "cell_type": "code",
   "execution_count": 78,
   "metadata": {},
   "outputs": [
    {
     "name": "stdout",
     "output_type": "stream",
     "text": [
      "[[17  0]\n",
      " [ 6  2]]\n"
     ]
    }
   ],
   "source": [
    "# Re-evaluate the performance of the model on Testing dataset by using Confusion matrix\n",
    "print(confusion_matrix(y_test, rfc_model_cv_predictions))"
   ]
  },
  {
   "cell_type": "markdown",
   "metadata": {},
   "source": [
    "##### Conclusion:\n",
    "- TP = 17\n",
    "- FN = 0\n",
    "- FP = 6\n",
    "- TN = 2"
   ]
  },
  {
   "cell_type": "code",
   "execution_count": null,
   "metadata": {},
   "outputs": [],
   "source": []
  }
 ],
 "metadata": {
  "kernelspec": {
   "display_name": "Python 3",
   "language": "python",
   "name": "python3"
  },
  "language_info": {
   "codemirror_mode": {
    "name": "ipython",
    "version": 3
   },
   "file_extension": ".py",
   "mimetype": "text/x-python",
   "name": "python",
   "nbconvert_exporter": "python",
   "pygments_lexer": "ipython3",
   "version": "3.7.3"
  }
 },
 "nbformat": 4,
 "nbformat_minor": 2
}
